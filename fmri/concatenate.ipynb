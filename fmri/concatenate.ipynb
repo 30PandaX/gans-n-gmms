{
 "cells": [
  {
   "cell_type": "code",
   "execution_count": null,
   "metadata": {},
   "outputs": [],
   "source": [
    "import numpy as np\n",
    "with open('vectorized_fmri.npy', 'rb') as f:\n",
    "    vectorized_fmri = np.load(f)\n",
    "\n",
    "print(vectorized_fmri)"
   ]
  },
  {
   "cell_type": "code",
   "execution_count": null,
   "metadata": {},
   "outputs": [
    {
     "data": {
      "text/plain": "(35960, 5317)"
     },
     "execution_count": 4,
     "metadata": {},
     "output_type": "execute_result"
    }
   ],
   "source": [
    "vectorized_fmri.shape"
   ]
  },
  {
   "cell_type": "code",
   "execution_count": null,
   "metadata": {},
   "outputs": [],
   "source": [
    "img_size = 32\n",
    "list_file = f'../../braindecoder/vectorized_images_{img_size}.npy'\n",
    "with open(list_file, 'rb') as f:\n",
    "    vectorized_img = np.load(f)\n",
    "\n",
    "# flatten RGB 3D to 1D\n",
    "vectorized_img = np.asarray(vectorized_img).flatten().reshape(len(vectorized_img), img_size * img_size * 3)\n",
    "print(vectorized_img)"
   ]
  },
  {
   "cell_type": "code",
   "execution_count": null,
   "metadata": {},
   "outputs": [
    {
     "name": "stdout",
     "output_type": "stream",
     "text": [
      "[[219. 181. 162. ... 168. 169. 173.]\n",
      " [ 69. 117. 169. ... 163.  81.  72.]\n",
      " [141. 108.  91. ... 174. 144. 116.]\n",
      " ...\n",
      " [147. 213. 232. ... 220. 216. 195.]\n",
      " [  7.  24.  29. ...  45.  64.  42.]\n",
      " [ 62.  49.  37. ...  33.  22.  20.]]\n"
     ]
    },
    {
     "data": {
      "text/plain": "(29270, 3072)"
     },
     "execution_count": 6,
     "metadata": {},
     "output_type": "execute_result"
    }
   ],
   "source": [
    "vectorized_img.shape"
   ]
  },
  {
   "cell_type": "code",
   "execution_count": null,
   "metadata": {},
   "outputs": [
    {
     "name": "stdout",
     "output_type": "stream",
     "text": [
      "(35960,)\n"
     ]
    }
   ],
   "source": [
    "import numpy as np\n",
    "with open('fmri_id.npy', 'rb') as f:\n",
    "    fmri_id = np.load(f)\n",
    "\n",
    "print(fmri_id.shape)"
   ]
  },
  {
   "cell_type": "code",
   "execution_count": null,
   "metadata": {},
   "outputs": [
    {
     "data": {
      "text/plain": "array(['sub01/run01/M0000.jpg', 'sub01/run01/F0000.jpg',\n       'sub01/run01/M0001.jpg', ..., 'sub01/run107/F17906.jpg',\n       'sub01/run107/M17907.jpg', 'sub01/run107/F17907.jpg'], dtype='<U23')"
     },
     "execution_count": 8,
     "metadata": {},
     "output_type": "execute_result"
    }
   ],
   "source": [
    "with open('/home/px48/gans-n-gmms/utils/img_paths.npy', 'rb') as f:\n",
    "    img_paths_cleaned = np.load(f)\n",
    "img_paths_cleaned"
   ]
  },
  {
   "cell_type": "code",
   "execution_count": null,
   "metadata": {},
   "outputs": [
    {
     "data": {
      "text/plain": "(29270,)"
     },
     "execution_count": 9,
     "metadata": {},
     "output_type": "execute_result"
    }
   ],
   "source": [
    "img_paths_cleaned.shape"
   ]
  },
  {
   "cell_type": "code",
   "execution_count": null,
   "metadata": {},
   "outputs": [],
   "source": [
    "with open('fmri_face_map.npy', 'rb') as f:\n",
    "    fmri_face_map = np.load(f)"
   ]
  },
  {
   "cell_type": "code",
   "execution_count": null,
   "metadata": {},
   "outputs": [
    {
     "data": {
      "text/plain": "(29270, 8389)"
     },
     "execution_count": 16,
     "metadata": {},
     "output_type": "execute_result"
    }
   ],
   "source": [
    "concatenated_vectors = []\n",
    "for index, face in enumerate(vectorized_img):\n",
    "  fmri_index = fmri_face_map[index]\n",
    "  concatenated_vector = np.concatenate((face, vectorized_fmri[fmri_index]))\n",
    "  concatenated_vectors.append(concatenated_vector)\n",
    "\n",
    "with open('concatenated_vectors.npy', 'wb') as f:\n",
    "    np.save(f, concatenated_vectors)\n",
    "\n",
    "with open('concatenated_vectors.npy', 'rb') as f:\n",
    "    concatenated_vectors = np.load(f)\n",
    "concatenated_vectors.shape"
   ]
  },
  {
   "cell_type": "code",
   "execution_count": null,
   "metadata": {},
   "outputs": [
    {
     "ename": "Error",
     "evalue": "Session cannot generate requests",
     "output_type": "error",
     "traceback": [
      "Error: Session cannot generate requests",
      "at w.executeCodeCell (/home/px48/.vscode-server/extensions/ms-toolsai.jupyter-2021.6.832593372/out/client/extension.js:90:316184)",
      "at w.execute (/home/px48/.vscode-server/extensions/ms-toolsai.jupyter-2021.6.832593372/out/client/extension.js:90:315573)",
      "at w.start (/home/px48/.vscode-server/extensions/ms-toolsai.jupyter-2021.6.832593372/out/client/extension.js:90:311378)",
      "at async t.CellExecutionQueue.executeQueuedCells (/home/px48/.vscode-server/extensions/ms-toolsai.jupyter-2021.6.832593372/out/client/extension.js:90:325786)",
      "at async t.CellExecutionQueue.start (/home/px48/.vscode-server/extensions/ms-toolsai.jupyter-2021.6.832593372/out/client/extension.js:90:325326)"
     ]
    }
   ],
   "source": [
    "with open('concatenated_vectors.npy', 'rb') as f:\n",
    "    concatenated_vectors = np.load(f)\n",
    "concatenated_vectors.shape"
   ]
  },
  {
   "cell_type": "code",
   "execution_count": 2,
   "metadata": {},
   "outputs": [
    {
     "name": "stdout",
     "output_type": "stream",
     "text": [
      "[[-0.39884838  0.14678198  0.53673577 ...  0.50394851  0.21608017\n",
      "  -0.66035098]\n",
      " [-0.62375867  0.52171403  0.69669861 ...  0.3161197  -0.91412055\n",
      "  -0.89503163]\n",
      " [-0.50430328  0.48940226  0.79250735 ...  0.17371643 -0.08662137\n",
      "  -0.82327944]\n",
      " ...\n",
      " [ 0.66207588  0.24018949  0.24619068 ...  1.38331187 -0.12606634\n",
      "   0.01799778]\n",
      " [-0.165635    0.07695606  0.43573871 ...  1.02285576  0.8566646\n",
      "   0.5687992 ]\n",
      " [ 0.48586583  0.54663646  0.22718358 ...  0.73568606 -0.01514511\n",
      "  -0.92851037]]\n"
     ]
    }
   ],
   "source": [
    "import numpy as np\n",
    "with open('fmri_ids.npy', 'rb') as f:\n",
    "    fmri_ids = np.load(f)"
   ]
  },
  {
   "cell_type": "code",
   "execution_count": 3,
   "metadata": {},
   "outputs": [
    {
     "data": {
      "text/plain": "array(['sub-01_ses-01_run-01_train_face', 'train_run01_F0031',\n       'train_run01_M0043', 'train_run01_M0005', 'train_run01_M0003'],\n      dtype='<U31')"
     },
     "execution_count": 3,
     "metadata": {},
     "output_type": "execute_result"
    }
   ],
   "source": [
    "fmri_ids[:5]"
   ]
  },
  {
   "cell_type": "code",
   "execution_count": 16,
   "metadata": {},
   "outputs": [
    {
     "data": {
      "text/plain": "array([], dtype=float64)"
     },
     "execution_count": 16,
     "metadata": {},
     "output_type": "execute_result"
    }
   ],
   "source": [
    "face_ids = np.load(\"/home/px48/gans-n-gmms/fmri/fmri_ids_train.npy\")\n",
    "face_ids[:10]"
   ]
  },
  {
   "cell_type": "code",
   "execution_count": 1,
   "metadata": {},
   "outputs": [],
   "source": [
    "import numpy as np\n",
    "concatenated = np.load(\"/home/px48/gans-n-gmms/fmri/ret.npy\")"
   ]
  },
  {
   "cell_type": "code",
   "execution_count": 2,
   "metadata": {},
   "outputs": [
    {
     "data": {
      "text/plain": "(29270, 17605)"
     },
     "execution_count": 2,
     "metadata": {},
     "output_type": "execute_result"
    }
   ],
   "source": [
    "concatenated.shape"
   ]
  },
  {
   "cell_type": "code",
   "execution_count": 20,
   "metadata": {},
   "outputs": [],
   "source": [
    "from sklearn.model_selection import train_test_split\n",
    "train_list, test_list = train_test_split(concatenated, test_size=0.2, random_state=42)"
   ]
  },
  {
   "cell_type": "code",
   "execution_count": 21,
   "metadata": {},
   "outputs": [
    {
     "name": "stdout",
     "output_type": "stream",
     "text": [
      "Train set\n",
      "[[ 1.77961847e-04  1.52076493e-04  1.40751639e-04 ...  1.88061982e-01\n",
      "  -8.35853815e-01 -2.42372334e-01]\n",
      " [ 1.86051024e-04  1.86051024e-04  2.00611539e-04 ...  1.02441572e-01\n",
      "   6.63958907e-01  3.15356553e-01]\n",
      " [ 2.42675242e-06  3.23566996e-06  7.28025771e-06 ...  6.77528918e-01\n",
      "   2.93376893e-01 -4.98032987e-01]\n",
      " [ 3.23566996e-06  2.42675242e-06  6.47133993e-06 ...  2.35488102e-01\n",
      "   6.11768246e-01  6.48441434e-01]\n",
      " [ 1.88477774e-04  1.94949112e-04  1.97375877e-04 ... -2.05645517e-01\n",
      "   3.67746979e-04 -4.47891861e-01]]\n",
      ".................\n",
      "Test set\n",
      "[[ 3.55923694e-05  2.10318558e-05  1.94140193e-05 ... -7.84756839e-02\n",
      "   7.26131976e-01  3.83546531e-01]\n",
      " [ 3.23567001e-05  3.07388655e-05  3.47834539e-05 ... -7.77437985e-02\n",
      "   1.44011870e-01 -2.39910915e-01]\n",
      " [ 4.77261347e-05  4.93439693e-05  4.44904617e-05 ... -3.27155083e-01\n",
      "   8.28272626e-02 -8.05716030e-03]\n",
      " [ 1.53694327e-05  1.21337625e-05  1.13248452e-05 ... -6.44058108e-01\n",
      "   6.57532513e-02 -1.75238594e-01]\n",
      " [ 6.71401503e-05  7.84649965e-05  9.46433502e-05 ... -8.19575936e-02\n",
      "  -3.08432847e-01 -1.51980177e-01]]\n"
     ]
    }
   ],
   "source": [
    "print(\"Train set\")\n",
    "print(train_list[:5])\n",
    "print(\".................\")\n",
    "print(\"Test set\")\n",
    "print(test_list[:5])\n"
   ]
  },
  {
   "cell_type": "code",
   "execution_count": 7,
   "metadata": {},
   "outputs": [
    {
     "name": "stdout",
     "output_type": "stream",
     "text": [
      "0.8531579 0.12303355\n"
     ]
    }
   ],
   "source": [
    "import numpy as np\n",
    "\n",
    "img_size = 32\n",
    "\n",
    "list_file = f'../../braindecoder/vectorized_images_{img_size}.npy'\n",
    "with open(list_file, 'rb') as f:\n",
    "    vectorized_img = np.load(f)\n",
    "\n",
    "# flatten RGB 3D to 1D\n",
    "vectorized_img = np.asarray(vectorized_img).flatten().reshape(len(vectorized_img), img_size * img_size * 3)\n",
    "\n",
    "comp_path = \"/home/px48/gans-n-gmms/15_components.npy\"\n",
    "components_obj = np.load(comp_path, allow_pickle=True)\n",
    "MUs = []\n",
    "keys = components_obj.item().keys()\n",
    "for key in keys:\n",
    "  MU = components_obj.item().get(key)['mu'][:img_size ** 2 * 3]\n",
    "  MUs.append(MU)\n",
    "\n",
    "print(max(MUs[0]), min(MUs[0]))\n",
    "with open('MUs_15_components.npy', 'wb') as f:\n",
    "    np.save(f, MUs)\n"
   ]
  },
  {
   "cell_type": "code",
   "execution_count": 8,
   "metadata": {},
   "outputs": [
    {
     "name": "stdout",
     "output_type": "stream",
     "text": [
      "0.12303355 0.8531579\n"
     ]
    },
    {
     "data": {
      "image/png": "[encoded data removed]",
      "text/plain": "<Figure size 432x288 with 1 Axes>"
     },
     "metadata": {
      "needs_background": "light"
     },
     "output_type": "display_data"
    }
   ],
   "source": [
    "import matplotlib.pyplot as plt\n",
    "def to_image(sample, w, h, ch=3):\n",
    "    return sample.reshape([h, w, ch])\n",
    "\n",
    "def im_show(img):\n",
    "    print(min(img.flatten()), max(img.flatten()))\n",
    "    if len(img.shape) == 3:\n",
    "        plt.imshow(img)\n",
    "    else:\n",
    "        plt.imshow(img, vmin=0, vmax=1, cmap='gray')\n",
    "img = to_image(MUs[0], img_size, img_size)\n",
    "im_show(img)"
   ]
  },
  {
   "cell_type": "code",
   "execution_count": 17,
   "metadata": {},
   "outputs": [
    {
     "data": {
      "image/png": "[encoded data removed]",
      "text/plain": "<Figure size 864x432 with 15 Axes>"
     },
     "metadata": {
      "needs_background": "light"
     },
     "output_type": "display_data"
    }
   ],
   "source": [
    "import matplotlib.pyplot as plt\n",
    "def to_image(sample, w, h, ch=3):\n",
    "    return sample.reshape([h, w, ch])\n",
    "\n",
    "rows = 3\n",
    "cols = 5\n",
    "\n",
    "axes=[]\n",
    "fig=plt.figure(figsize=(12, 6))\n",
    "\n",
    "for a in range(rows*cols):\n",
    "    axes.append(fig.add_subplot(rows, cols, a+1) )\n",
    "    subplot_title=(\"comp \"+str(a))\n",
    "    axes[-1].set_title(subplot_title)\n",
    "    img = to_image(MUs[a], img_size, img_size)\n",
    "    plt.imshow(img)\n",
    "fig.tight_layout()    \n",
    "plt.show()"
   ]
  }
 ],
 "metadata": {
  "kernelspec": {
   "display_name": "Python 3.9.2 64-bit ('braindecoding': conda)",
   "name": "python392jvsc74a57bd027dc47f4346b689bc44b28c68fd2b1d04b3ab8cfea96be877f4b3e8ad5f98aad"
  },
  "language_info": {
   "codemirror_mode": {
    "name": "ipython",
    "version": 3
   },
   "file_extension": ".py",
   "mimetype": "text/x-python",
   "name": "python",
   "nbconvert_exporter": "python",
   "pygments_lexer": "ipython3",
   "version": "3.9.2"
  },
  "metadata": {
   "interpreter": {
    "hash": "27dc47f4346b689bc44b28c68fd2b1d04b3ab8cfea96be877f4b3e8ad5f98aad"
   }
  },
  "orig_nbformat": 2
 },
 "nbformat": 4,
 "nbformat_minor": 2
}