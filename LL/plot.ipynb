{
 "cells": [
  {
   "cell_type": "code",
   "execution_count": 1,
   "id": "upper-victor",
   "metadata": {},
   "outputs": [],
   "source": [
    "import pandas as pd\n",
    "import seaborn as sns\n",
    "from matplotlib import pyplot as plt\n",
    "import numpy as np"
   ]
  },
  {
   "cell_type": "code",
   "execution_count": 7,
   "id": "material-listening",
   "metadata": {},
   "outputs": [],
   "source": [
    "colnames=['iterations', 'train LL', 'test LL', 'mean_noise_variance'] \n",
    "df_5c = pd.read_csv('log5c.csv',names=colnames, header=None).assign(component=5)\n",
    "df_10c = pd.read_csv('log10c.csv',names=colnames, header=None).assign(component = 10)\n",
    "df_20c = pd.read_csv('log20c.csv',names=colnames, header=None).assign(component = 20)\n",
    "df_50c = pd.read_csv('log50c.csv',names=colnames, header=None).assign(component = 50)\n",
    "df_100c = pd.read_csv('log100c.csv',names=colnames, header=None).assign(component = 100)\n",
    "df_200c = pd.read_csv('log200c.csv',names=colnames, header=None).assign(component = 200)"
   ]
  },
  {
   "cell_type": "code",
   "execution_count": 8,
   "id": "owned-chase",
   "metadata": {},
   "outputs": [
    {
     "data": {
      "text/html": [
       "<div>\n",
       "<style scoped>\n",
       "    .dataframe tbody tr th:only-of-type {\n",
       "        vertical-align: middle;\n",
       "    }\n",
       "\n",
       "    .dataframe tbody tr th {\n",
       "        vertical-align: top;\n",
       "    }\n",
       "\n",
       "    .dataframe thead th {\n",
       "        text-align: right;\n",
       "    }\n",
       "</style>\n",
       "<table border=\"1\" class=\"dataframe\">\n",
       "  <thead>\n",
       "    <tr style=\"text-align: right;\">\n",
       "      <th></th>\n",
       "      <th>iterations</th>\n",
       "      <th>train LL</th>\n",
       "      <th>test LL</th>\n",
       "      <th>mean_noise_variance</th>\n",
       "      <th>component</th>\n",
       "    </tr>\n",
       "  </thead>\n",
       "  <tbody>\n",
       "    <tr>\n",
       "      <th>0</th>\n",
       "      <td>0</td>\n",
       "      <td>2561.975098</td>\n",
       "      <td>2554.133545</td>\n",
       "      <td>0.013319</td>\n",
       "      <td>5</td>\n",
       "    </tr>\n",
       "    <tr>\n",
       "      <th>1</th>\n",
       "      <td>100</td>\n",
       "      <td>2524.460938</td>\n",
       "      <td>2598.922974</td>\n",
       "      <td>0.013178</td>\n",
       "      <td>5</td>\n",
       "    </tr>\n",
       "    <tr>\n",
       "      <th>2</th>\n",
       "      <td>200</td>\n",
       "      <td>2627.299805</td>\n",
       "      <td>2634.849780</td>\n",
       "      <td>0.013050</td>\n",
       "      <td>5</td>\n",
       "    </tr>\n",
       "    <tr>\n",
       "      <th>3</th>\n",
       "      <td>300</td>\n",
       "      <td>2609.964355</td>\n",
       "      <td>2664.665112</td>\n",
       "      <td>0.012935</td>\n",
       "      <td>5</td>\n",
       "    </tr>\n",
       "    <tr>\n",
       "      <th>4</th>\n",
       "      <td>400</td>\n",
       "      <td>2754.866211</td>\n",
       "      <td>2688.998535</td>\n",
       "      <td>0.012846</td>\n",
       "      <td>5</td>\n",
       "    </tr>\n",
       "    <tr>\n",
       "      <th>...</th>\n",
       "      <td>...</td>\n",
       "      <td>...</td>\n",
       "      <td>...</td>\n",
       "      <td>...</td>\n",
       "      <td>...</td>\n",
       "    </tr>\n",
       "    <tr>\n",
       "      <th>95</th>\n",
       "      <td>9500</td>\n",
       "      <td>3706.482666</td>\n",
       "      <td>3511.751099</td>\n",
       "      <td>0.010495</td>\n",
       "      <td>200</td>\n",
       "    </tr>\n",
       "    <tr>\n",
       "      <th>96</th>\n",
       "      <td>9600</td>\n",
       "      <td>3705.199707</td>\n",
       "      <td>3512.468262</td>\n",
       "      <td>0.010491</td>\n",
       "      <td>200</td>\n",
       "    </tr>\n",
       "    <tr>\n",
       "      <th>97</th>\n",
       "      <td>9700</td>\n",
       "      <td>3692.325195</td>\n",
       "      <td>3512.857886</td>\n",
       "      <td>0.010489</td>\n",
       "      <td>200</td>\n",
       "    </tr>\n",
       "    <tr>\n",
       "      <th>98</th>\n",
       "      <td>9800</td>\n",
       "      <td>3649.374512</td>\n",
       "      <td>3513.749756</td>\n",
       "      <td>0.010486</td>\n",
       "      <td>200</td>\n",
       "    </tr>\n",
       "    <tr>\n",
       "      <th>99</th>\n",
       "      <td>9900</td>\n",
       "      <td>3634.161133</td>\n",
       "      <td>3514.768530</td>\n",
       "      <td>0.010484</td>\n",
       "      <td>200</td>\n",
       "    </tr>\n",
       "  </tbody>\n",
       "</table>\n",
       "<p>600 rows × 5 columns</p>\n",
       "</div>"
      ],
      "text/plain": [
       "    iterations     train LL      test LL  mean_noise_variance  component\n",
       "0            0  2561.975098  2554.133545             0.013319          5\n",
       "1          100  2524.460938  2598.922974             0.013178          5\n",
       "2          200  2627.299805  2634.849780             0.013050          5\n",
       "3          300  2609.964355  2664.665112             0.012935          5\n",
       "4          400  2754.866211  2688.998535             0.012846          5\n",
       "..         ...          ...          ...                  ...        ...\n",
       "95        9500  3706.482666  3511.751099             0.010495        200\n",
       "96        9600  3705.199707  3512.468262             0.010491        200\n",
       "97        9700  3692.325195  3512.857886             0.010489        200\n",
       "98        9800  3649.374512  3513.749756             0.010486        200\n",
       "99        9900  3634.161133  3514.768530             0.010484        200\n",
       "\n",
       "[600 rows x 5 columns]"
      ]
     },
     "execution_count": 8,
     "metadata": {},
     "output_type": "execute_result"
    }
   ],
   "source": [
    "cdf = pd.concat([df_5c, df_10c, df_20c,df_50c,df_100c, df_200c])\n",
    "cdf"
   ]
  },
  {
   "cell_type": "code",
   "execution_count": 19,
   "id": "sunrise-wright",
   "metadata": {},
   "outputs": [
    {
     "data": {
      "image/png": "[encoded data removed]",
      "text/plain": [
       "<Figure size 432x288 with 1 Axes>"
      ]
     },
     "metadata": {
      "needs_background": "light"
     },
     "output_type": "display_data"
    }
   ],
   "source": [
    "ax = sns.boxplot(x=\"component\", y=\"test LL\", data=cdf)  # RUN PLOT   \n",
    "plt.show()"
   ]
  },
  {
   "cell_type": "code",
   "execution_count": 10,
   "id": "naughty-approval",
   "metadata": {},
   "outputs": [],
   "source": [
    "df_5c = df_5c.assign(maxll= lambda x : df_5c['train LL'].max())\n",
    "df_10c = df_10c.assign(maxll= lambda x : df_10c['train LL'].max())\n",
    "df_20c = df_20c.assign(maxll= lambda x : df_20c['train LL'].max())\n",
    "df_50c = df_50c.assign(maxll= lambda x : df_50c['train LL'].max())\n",
    "df_100c = df_100c.assign(maxll= lambda x : df_100c['train LL'].max())\n",
    "df_200c = df_200c.assign(maxll= lambda x : df_200c['train LL'].max())"
   ]
  },
  {
   "cell_type": "code",
   "execution_count": 11,
   "id": "international-damages",
   "metadata": {},
   "outputs": [
    {
     "data": {
      "text/html": [
       "<div>\n",
       "<style scoped>\n",
       "    .dataframe tbody tr th:only-of-type {\n",
       "        vertical-align: middle;\n",
       "    }\n",
       "\n",
       "    .dataframe tbody tr th {\n",
       "        vertical-align: top;\n",
       "    }\n",
       "\n",
       "    .dataframe thead th {\n",
       "        text-align: right;\n",
       "    }\n",
       "</style>\n",
       "<table border=\"1\" class=\"dataframe\">\n",
       "  <thead>\n",
       "    <tr style=\"text-align: right;\">\n",
       "      <th></th>\n",
       "      <th>iterations</th>\n",
       "      <th>train LL</th>\n",
       "      <th>test LL</th>\n",
       "      <th>mean_noise_variance</th>\n",
       "      <th>component</th>\n",
       "      <th>maxll</th>\n",
       "      <th>AIC</th>\n",
       "    </tr>\n",
       "  </thead>\n",
       "  <tbody>\n",
       "    <tr>\n",
       "      <th>0</th>\n",
       "      <td>0</td>\n",
       "      <td>2561.975098</td>\n",
       "      <td>2554.133545</td>\n",
       "      <td>0.013319</td>\n",
       "      <td>5</td>\n",
       "      <td>2913.930176</td>\n",
       "      <td>-5.954516</td>\n",
       "    </tr>\n",
       "    <tr>\n",
       "      <th>1</th>\n",
       "      <td>100</td>\n",
       "      <td>2524.460938</td>\n",
       "      <td>2598.922974</td>\n",
       "      <td>0.013178</td>\n",
       "      <td>5</td>\n",
       "      <td>2913.930176</td>\n",
       "      <td>-5.954516</td>\n",
       "    </tr>\n",
       "    <tr>\n",
       "      <th>2</th>\n",
       "      <td>200</td>\n",
       "      <td>2627.299805</td>\n",
       "      <td>2634.849780</td>\n",
       "      <td>0.013050</td>\n",
       "      <td>5</td>\n",
       "      <td>2913.930176</td>\n",
       "      <td>-5.954516</td>\n",
       "    </tr>\n",
       "    <tr>\n",
       "      <th>3</th>\n",
       "      <td>300</td>\n",
       "      <td>2609.964355</td>\n",
       "      <td>2664.665112</td>\n",
       "      <td>0.012935</td>\n",
       "      <td>5</td>\n",
       "      <td>2913.930176</td>\n",
       "      <td>-5.954516</td>\n",
       "    </tr>\n",
       "    <tr>\n",
       "      <th>4</th>\n",
       "      <td>400</td>\n",
       "      <td>2754.866211</td>\n",
       "      <td>2688.998535</td>\n",
       "      <td>0.012846</td>\n",
       "      <td>5</td>\n",
       "      <td>2913.930176</td>\n",
       "      <td>-5.954516</td>\n",
       "    </tr>\n",
       "    <tr>\n",
       "      <th>...</th>\n",
       "      <td>...</td>\n",
       "      <td>...</td>\n",
       "      <td>...</td>\n",
       "      <td>...</td>\n",
       "      <td>...</td>\n",
       "      <td>...</td>\n",
       "      <td>...</td>\n",
       "    </tr>\n",
       "    <tr>\n",
       "      <th>95</th>\n",
       "      <td>9500</td>\n",
       "      <td>3706.482666</td>\n",
       "      <td>3511.751099</td>\n",
       "      <td>0.010495</td>\n",
       "      <td>200</td>\n",
       "      <td>3786.350098</td>\n",
       "      <td>383.521684</td>\n",
       "    </tr>\n",
       "    <tr>\n",
       "      <th>96</th>\n",
       "      <td>9600</td>\n",
       "      <td>3705.199707</td>\n",
       "      <td>3512.468262</td>\n",
       "      <td>0.010491</td>\n",
       "      <td>200</td>\n",
       "      <td>3786.350098</td>\n",
       "      <td>383.521684</td>\n",
       "    </tr>\n",
       "    <tr>\n",
       "      <th>97</th>\n",
       "      <td>9700</td>\n",
       "      <td>3692.325195</td>\n",
       "      <td>3512.857886</td>\n",
       "      <td>0.010489</td>\n",
       "      <td>200</td>\n",
       "      <td>3786.350098</td>\n",
       "      <td>383.521684</td>\n",
       "    </tr>\n",
       "    <tr>\n",
       "      <th>98</th>\n",
       "      <td>9800</td>\n",
       "      <td>3649.374512</td>\n",
       "      <td>3513.749756</td>\n",
       "      <td>0.010486</td>\n",
       "      <td>200</td>\n",
       "      <td>3786.350098</td>\n",
       "      <td>383.521684</td>\n",
       "    </tr>\n",
       "    <tr>\n",
       "      <th>99</th>\n",
       "      <td>9900</td>\n",
       "      <td>3634.161133</td>\n",
       "      <td>3514.768530</td>\n",
       "      <td>0.010484</td>\n",
       "      <td>200</td>\n",
       "      <td>3786.350098</td>\n",
       "      <td>383.521684</td>\n",
       "    </tr>\n",
       "  </tbody>\n",
       "</table>\n",
       "<p>600 rows × 7 columns</p>\n",
       "</div>"
      ],
      "text/plain": [
       "    iterations     train LL      test LL  mean_noise_variance  component  \\\n",
       "0            0  2561.975098  2554.133545             0.013319          5   \n",
       "1          100  2524.460938  2598.922974             0.013178          5   \n",
       "2          200  2627.299805  2634.849780             0.013050          5   \n",
       "3          300  2609.964355  2664.665112             0.012935          5   \n",
       "4          400  2754.866211  2688.998535             0.012846          5   \n",
       "..         ...          ...          ...                  ...        ...   \n",
       "95        9500  3706.482666  3511.751099             0.010495        200   \n",
       "96        9600  3705.199707  3512.468262             0.010491        200   \n",
       "97        9700  3692.325195  3512.857886             0.010489        200   \n",
       "98        9800  3649.374512  3513.749756             0.010486        200   \n",
       "99        9900  3634.161133  3514.768530             0.010484        200   \n",
       "\n",
       "          maxll         AIC  \n",
       "0   2913.930176   -5.954516  \n",
       "1   2913.930176   -5.954516  \n",
       "2   2913.930176   -5.954516  \n",
       "3   2913.930176   -5.954516  \n",
       "4   2913.930176   -5.954516  \n",
       "..          ...         ...  \n",
       "95  3786.350098  383.521684  \n",
       "96  3786.350098  383.521684  \n",
       "97  3786.350098  383.521684  \n",
       "98  3786.350098  383.521684  \n",
       "99  3786.350098  383.521684  \n",
       "\n",
       "[600 rows x 7 columns]"
      ]
     },
     "execution_count": 11,
     "metadata": {},
     "output_type": "execute_result"
    }
   ],
   "source": [
    "aic_cdf = pd.concat([df_5c, df_10c, df_20c,df_50c,df_100c,df_200c])\n",
    "aic_cdf = aic_cdf.assign(AIC = lambda x : 2*aic_cdf['component'] - 2*np.log(aic_cdf['maxll']))#aic = 2p - 2log(L)\n",
    "aic_cdf"
   ]
  },
  {
   "cell_type": "code",
   "execution_count": 12,
   "id": "varied-temperature",
   "metadata": {},
   "outputs": [
    {
     "data": {
      "image/png": "[encoded data removed]",
      "text/plain": [
       "<Figure size 432x288 with 1 Axes>"
      ]
     },
     "metadata": {
      "needs_background": "light"
     },
     "output_type": "display_data"
    }
   ],
   "source": [
    "AIC_plot = sns.lineplot(data=aic_cdf, x=\"component\", y=\"AIC\") \n",
    "plt.show()"
   ]
  },
  {
   "cell_type": "code",
   "execution_count": 13,
   "id": "subtle-candidate",
   "metadata": {},
   "outputs": [],
   "source": [
    "from sklearn.linear_model import LassoLarsIC"
   ]
  },
  {
   "cell_type": "code",
   "execution_count": 14,
   "id": "listed-travel",
   "metadata": {},
   "outputs": [],
   "source": [
    "model_aic = LassoLarsIC(criterion='aic')\n",
    "model_aic.fit(aic_cdf, aic_cdf['component'])\n",
    "alpha_aic_ = model_aic.alpha_\n",
    "EPSILON = 1e-4"
   ]
  },
  {
   "cell_type": "code",
   "execution_count": 15,
   "id": "embedded-stereo",
   "metadata": {},
   "outputs": [
    {
     "data": {
      "text/plain": [
       "<matplotlib.legend.Legend at 0x7f98077f35e0>"
      ]
     },
     "execution_count": 15,
     "metadata": {},
     "output_type": "execute_result"
    },
    {
     "data": {
      "image/png": "[encoded data removed]",
      "text/plain": [
       "<Figure size 432x288 with 1 Axes>"
      ]
     },
     "metadata": {
      "needs_background": "light"
     },
     "output_type": "display_data"
    }
   ],
   "source": [
    "def plot_ic_criterion(model, name, color):\n",
    "    criterion_ = model.criterion_\n",
    "    plt.semilogx(model.alphas_ + EPSILON, criterion_, '--', color=color,\n",
    "                 linewidth=3, label='%s criterion' % name)\n",
    "    plt.axvline(model.alpha_ + EPSILON, color=color, linewidth=3,\n",
    "                label='alpha: %s estimate' % name)\n",
    "    plt.xlabel(r'$\\alpha$')\n",
    "    plt.ylabel('criterion')\n",
    "\n",
    "plt.figure()\n",
    "plot_ic_criterion(model_aic, 'AIC', 'b')\n",
    "#plot_ic_criterion(model_bic, 'BIC', 'r')\n",
    "plt.legend()"
   ]
  },
  {
   "cell_type": "code",
   "execution_count": null,
   "id": "cosmetic-murder",
   "metadata": {},
   "outputs": [],
   "source": []
  }
 ],
 "metadata": {
  "kernelspec": {
   "display_name": "Python 3",
   "language": "python",
   "name": "python3"
  },
  "language_info": {
   "codemirror_mode": {
    "name": "ipython",
    "version": 3
   },
   "file_extension": ".py",
   "mimetype": "text/x-python",
   "name": "python",
   "nbconvert_exporter": "python",
   "pygments_lexer": "ipython3",
   "version": "3.8.5"
  }
 },
 "nbformat": 4,
 "nbformat_minor": 5
}
