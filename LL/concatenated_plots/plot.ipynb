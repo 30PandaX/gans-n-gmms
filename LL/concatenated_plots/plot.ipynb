{
 "cells": [
  {
   "cell_type": "code",
   "execution_count": 4,
   "metadata": {},
   "outputs": [],
   "source": [
    "import pandas as pd\n",
    "import seaborn as sns\n",
    "from matplotlib import pyplot as plt\n",
    "import numpy as np\n",
    "\n",
    "# gans-n-gmms/concatenated_results_32/celeba_mfa_10c_10l/log.csv"
   ]
  },
  {
   "cell_type": "code",
   "execution_count": 6,
   "metadata": {},
   "outputs": [],
   "source": [
    "colnames=['iterations', 'train LL', 'test LL', 'mean_noise_variance'] \n",
    "#df_5c = pd.read_csv('log5c.csv',names=colnames, header=None).assign(component=5)\n",
    "df_10c = pd.read_csv('/home/px48/gans-n-gmms/concatenated_results_32/celeba_mfa_10c_10l/log.csv',names=colnames, header=None).assign(component = 10)\n",
    "df_15c = pd.read_csv('/home/px48/gans-n-gmms/concatenated_results_32/celeba_mfa_15c_10l/log.csv',names=colnames, header=None).assign(component = 15)\n",
    "df_50c = pd.read_csv('/home/px48/gans-n-gmms/concatenated_results_32/celeba_mfa_50c_10l/log.csv',names=colnames, header=None).assign(component = 50)\n",
    "#df_100c = pd.read_csv('log100c.csv',names=colnames, header=None).assign(component = 100)\n",
    "#df_200c = pd.read_csv('log200c.csv',names=colnames, header=None).assign(component = 200)"
   ]
  },
  {
   "cell_type": "code",
   "execution_count": 7,
   "metadata": {},
   "outputs": [
    {
     "data": {
      "text/html": "<div>\n<style scoped>\n    .dataframe tbody tr th:only-of-type {\n        vertical-align: middle;\n    }\n\n    .dataframe tbody tr th {\n        vertical-align: top;\n    }\n\n    .dataframe thead th {\n        text-align: right;\n    }\n</style>\n<table border=\"1\" class=\"dataframe\">\n  <thead>\n    <tr style=\"text-align: right;\">\n      <th></th>\n      <th>iterations</th>\n      <th>train LL</th>\n      <th>test LL</th>\n      <th>mean_noise_variance</th>\n      <th>component</th>\n    </tr>\n  </thead>\n  <tbody>\n    <tr>\n      <th>0</th>\n      <td>0</td>\n      <td>-1312.838989</td>\n      <td>-1224.863171</td>\n      <td>0.135880</td>\n      <td>10</td>\n    </tr>\n    <tr>\n      <th>1</th>\n      <td>100</td>\n      <td>-1255.730103</td>\n      <td>-1192.547852</td>\n      <td>0.136045</td>\n      <td>10</td>\n    </tr>\n    <tr>\n      <th>2</th>\n      <td>200</td>\n      <td>-1262.257568</td>\n      <td>-1163.383545</td>\n      <td>0.136238</td>\n      <td>10</td>\n    </tr>\n    <tr>\n      <th>3</th>\n      <td>300</td>\n      <td>-1053.319946</td>\n      <td>-1137.240967</td>\n      <td>0.136405</td>\n      <td>10</td>\n    </tr>\n    <tr>\n      <th>4</th>\n      <td>400</td>\n      <td>-1118.926758</td>\n      <td>-1115.698608</td>\n      <td>0.136580</td>\n      <td>10</td>\n    </tr>\n    <tr>\n      <th>...</th>\n      <td>...</td>\n      <td>...</td>\n      <td>...</td>\n      <td>...</td>\n      <td>...</td>\n    </tr>\n    <tr>\n      <th>95</th>\n      <td>9500</td>\n      <td>-654.789734</td>\n      <td>-802.800568</td>\n      <td>0.129696</td>\n      <td>50</td>\n    </tr>\n    <tr>\n      <th>96</th>\n      <td>9600</td>\n      <td>-592.356689</td>\n      <td>-802.617676</td>\n      <td>0.129676</td>\n      <td>50</td>\n    </tr>\n    <tr>\n      <th>97</th>\n      <td>9700</td>\n      <td>-616.985229</td>\n      <td>-802.284180</td>\n      <td>0.129652</td>\n      <td>50</td>\n    </tr>\n    <tr>\n      <th>98</th>\n      <td>9800</td>\n      <td>-580.577209</td>\n      <td>-801.635156</td>\n      <td>0.129628</td>\n      <td>50</td>\n    </tr>\n    <tr>\n      <th>99</th>\n      <td>9900</td>\n      <td>-585.773804</td>\n      <td>-801.294226</td>\n      <td>0.129608</td>\n      <td>50</td>\n    </tr>\n  </tbody>\n</table>\n<p>300 rows × 5 columns</p>\n</div>",
      "text/plain": "    iterations     train LL      test LL  mean_noise_variance  component\n0            0 -1312.838989 -1224.863171             0.135880         10\n1          100 -1255.730103 -1192.547852             0.136045         10\n2          200 -1262.257568 -1163.383545             0.136238         10\n3          300 -1053.319946 -1137.240967             0.136405         10\n4          400 -1118.926758 -1115.698608             0.136580         10\n..         ...          ...          ...                  ...        ...\n95        9500  -654.789734  -802.800568             0.129696         50\n96        9600  -592.356689  -802.617676             0.129676         50\n97        9700  -616.985229  -802.284180             0.129652         50\n98        9800  -580.577209  -801.635156             0.129628         50\n99        9900  -585.773804  -801.294226             0.129608         50\n\n[300 rows x 5 columns]"
     },
     "execution_count": 7,
     "metadata": {},
     "output_type": "execute_result"
    }
   ],
   "source": [
    "#cdf = pd.concat([df_5c, df_10c, df_20c,df_50c,df_100c, df_200c])\n",
    "cdf = pd.concat([df_10c, df_15c, df_50c])\n",
    "cdf"
   ]
  },
  {
   "cell_type": "code",
   "execution_count": 8,
   "metadata": {},
   "outputs": [
    {
     "data": {
      "image/png": "[encoded data removed]",
      "text/plain": "<Figure size 432x288 with 1 Axes>"
     },
     "metadata": {
      "needs_background": "light"
     },
     "output_type": "display_data"
    }
   ],
   "source": [
    "ax = sns.boxplot(x=\"component\", y=\"test LL\", data=cdf)  # RUN PLOT   \n",
    "plt.show()"
   ]
  },
  {
   "cell_type": "code",
   "execution_count": 10,
   "metadata": {},
   "outputs": [],
   "source": [
    "df_5c = df_5c.assign(maxll= lambda x : df_5c['train LL'].max())\n",
    "df_10c = df_10c.assign(maxll= lambda x : df_10c['train LL'].max())\n",
    "df_20c = df_20c.assign(maxll= lambda x : df_20c['train LL'].max())\n",
    "df_50c = df_50c.assign(maxll= lambda x : df_50c['train LL'].max())\n",
    "df_100c = df_100c.assign(maxll= lambda x : df_100c['train LL'].max())\n",
    "df_200c = df_200c.assign(maxll= lambda x : df_200c['train LL'].max())"
   ]
  },
  {
   "cell_type": "code",
   "execution_count": 11,
   "metadata": {},
   "outputs": [
    {
     "data": {
      "text/html": [
       "<div>\n",
       "<style scoped>\n",
       "    .dataframe tbody tr th:only-of-type {\n",
       "        vertical-align: middle;\n",
       "    }\n",
       "\n",
       "    .dataframe tbody tr th {\n",
       "        vertical-align: top;\n",
       "    }\n",
       "\n",
       "    .dataframe thead th {\n",
       "        text-align: right;\n",
       "    }\n",
       "</style>\n",
       "<table border=\"1\" class=\"dataframe\">\n",
       "  <thead>\n",
       "    <tr style=\"text-align: right;\">\n",
       "      <th></th>\n",
       "      <th>iterations</th>\n",
       "      <th>train LL</th>\n",
       "      <th>test LL</th>\n",
       "      <th>mean_noise_variance</th>\n",
       "      <th>component</th>\n",
       "      <th>maxll</th>\n",
       "      <th>AIC</th>\n",
       "    </tr>\n",
       "  </thead>\n",
       "  <tbody>\n",
       "    <tr>\n",
       "      <th>0</th>\n",
       "      <td>0</td>\n",
       "      <td>2561.975098</td>\n",
       "      <td>2554.133545</td>\n",
       "      <td>0.013319</td>\n",
       "      <td>5</td>\n",
       "      <td>2913.930176</td>\n",
       "      <td>-5.954516</td>\n",
       "    </tr>\n",
       "    <tr>\n",
       "      <th>1</th>\n",
       "      <td>100</td>\n",
       "      <td>2524.460938</td>\n",
       "      <td>2598.922974</td>\n",
       "      <td>0.013178</td>\n",
       "      <td>5</td>\n",
       "      <td>2913.930176</td>\n",
       "      <td>-5.954516</td>\n",
       "    </tr>\n",
       "    <tr>\n",
       "      <th>2</th>\n",
       "      <td>200</td>\n",
       "      <td>2627.299805</td>\n",
       "      <td>2634.849780</td>\n",
       "      <td>0.013050</td>\n",
       "      <td>5</td>\n",
       "      <td>2913.930176</td>\n",
       "      <td>-5.954516</td>\n",
       "    </tr>\n",
       "    <tr>\n",
       "      <th>3</th>\n",
       "      <td>300</td>\n",
       "      <td>2609.964355</td>\n",
       "      <td>2664.665112</td>\n",
       "      <td>0.012935</td>\n",
       "      <td>5</td>\n",
       "      <td>2913.930176</td>\n",
       "      <td>-5.954516</td>\n",
       "    </tr>\n",
       "    <tr>\n",
       "      <th>4</th>\n",
       "      <td>400</td>\n",
       "      <td>2754.866211</td>\n",
       "      <td>2688.998535</td>\n",
       "      <td>0.012846</td>\n",
       "      <td>5</td>\n",
       "      <td>2913.930176</td>\n",
       "      <td>-5.954516</td>\n",
       "    </tr>\n",
       "    <tr>\n",
       "      <th>...</th>\n",
       "      <td>...</td>\n",
       "      <td>...</td>\n",
       "      <td>...</td>\n",
       "      <td>...</td>\n",
       "      <td>...</td>\n",
       "      <td>...</td>\n",
       "      <td>...</td>\n",
       "    </tr>\n",
       "    <tr>\n",
       "      <th>95</th>\n",
       "      <td>9500</td>\n",
       "      <td>3706.482666</td>\n",
       "      <td>3511.751099</td>\n",
       "      <td>0.010495</td>\n",
       "      <td>200</td>\n",
       "      <td>3786.350098</td>\n",
       "      <td>383.521684</td>\n",
       "    </tr>\n",
       "    <tr>\n",
       "      <th>96</th>\n",
       "      <td>9600</td>\n",
       "      <td>3705.199707</td>\n",
       "      <td>3512.468262</td>\n",
       "      <td>0.010491</td>\n",
       "      <td>200</td>\n",
       "      <td>3786.350098</td>\n",
       "      <td>383.521684</td>\n",
       "    </tr>\n",
       "    <tr>\n",
       "      <th>97</th>\n",
       "      <td>9700</td>\n",
       "      <td>3692.325195</td>\n",
       "      <td>3512.857886</td>\n",
       "      <td>0.010489</td>\n",
       "      <td>200</td>\n",
       "      <td>3786.350098</td>\n",
       "      <td>383.521684</td>\n",
       "    </tr>\n",
       "    <tr>\n",
       "      <th>98</th>\n",
       "      <td>9800</td>\n",
       "      <td>3649.374512</td>\n",
       "      <td>3513.749756</td>\n",
       "      <td>0.010486</td>\n",
       "      <td>200</td>\n",
       "      <td>3786.350098</td>\n",
       "      <td>383.521684</td>\n",
       "    </tr>\n",
       "    <tr>\n",
       "      <th>99</th>\n",
       "      <td>9900</td>\n",
       "      <td>3634.161133</td>\n",
       "      <td>3514.768530</td>\n",
       "      <td>0.010484</td>\n",
       "      <td>200</td>\n",
       "      <td>3786.350098</td>\n",
       "      <td>383.521684</td>\n",
       "    </tr>\n",
       "  </tbody>\n",
       "</table>\n",
       "<p>600 rows × 7 columns</p>\n",
       "</div>"
      ],
      "text/plain": [
       "    iterations     train LL      test LL  mean_noise_variance  component  \\\n",
       "0            0  2561.975098  2554.133545             0.013319          5   \n",
       "1          100  2524.460938  2598.922974             0.013178          5   \n",
       "2          200  2627.299805  2634.849780             0.013050          5   \n",
       "3          300  2609.964355  2664.665112             0.012935          5   \n",
       "4          400  2754.866211  2688.998535             0.012846          5   \n",
       "..         ...          ...          ...                  ...        ...   \n",
       "95        9500  3706.482666  3511.751099             0.010495        200   \n",
       "96        9600  3705.199707  3512.468262             0.010491        200   \n",
       "97        9700  3692.325195  3512.857886             0.010489        200   \n",
       "98        9800  3649.374512  3513.749756             0.010486        200   \n",
       "99        9900  3634.161133  3514.768530             0.010484        200   \n",
       "\n",
       "          maxll         AIC  \n",
       "0   2913.930176   -5.954516  \n",
       "1   2913.930176   -5.954516  \n",
       "2   2913.930176   -5.954516  \n",
       "3   2913.930176   -5.954516  \n",
       "4   2913.930176   -5.954516  \n",
       "..          ...         ...  \n",
       "95  3786.350098  383.521684  \n",
       "96  3786.350098  383.521684  \n",
       "97  3786.350098  383.521684  \n",
       "98  3786.350098  383.521684  \n",
       "99  3786.350098  383.521684  \n",
       "\n",
       "[600 rows x 7 columns]"
      ]
     },
     "execution_count": 11,
     "metadata": {},
     "output_type": "execute_result"
    }
   ],
   "source": [
    "aic_cdf = pd.concat([df_5c, df_10c, df_20c,df_50c,df_100c,df_200c])\n",
    "aic_cdf = aic_cdf.assign(AIC = lambda x : 2*aic_cdf['component'] - 2*np.log(aic_cdf['maxll']))#aic = 2p - 2log(L)\n",
    "aic_cdf"
   ]
  },
  {
   "cell_type": "code",
   "execution_count": 12,
   "metadata": {},
   "outputs": [
    {
     "data": {
      "image/png": "[encoded data removed]",
      "text/plain": [
       "<Figure size 432x288 with 1 Axes>"
      ]
     },
     "metadata": {
      "needs_background": "light"
     },
     "output_type": "display_data"
    }
   ],
   "source": [
    "AIC_plot = sns.lineplot(data=aic_cdf, x=\"component\", y=\"AIC\") \n",
    "plt.show()"
   ]
  },
  {
   "cell_type": "code",
   "execution_count": 13,
   "metadata": {},
   "outputs": [],
   "source": [
    "from sklearn.linear_model import LassoLarsIC"
   ]
  },
  {
   "cell_type": "code",
   "execution_count": 14,
   "metadata": {},
   "outputs": [],
   "source": [
    "model_aic = LassoLarsIC(criterion='aic')\n",
    "model_aic.fit(aic_cdf, aic_cdf['component'])\n",
    "alpha_aic_ = model_aic.alpha_\n",
    "EPSILON = 1e-4"
   ]
  },
  {
   "cell_type": "code",
   "execution_count": 15,
   "metadata": {},
   "outputs": [
    {
     "data": {
      "text/plain": [
       "<matplotlib.legend.Legend at 0x7f98077f35e0>"
      ]
     },
     "execution_count": 15,
     "metadata": {},
     "output_type": "execute_result"
    },
    {
     "data": {
      "image/png": "[encoded data removed]",
      "text/plain": [
       "<Figure size 432x288 with 1 Axes>"
      ]
     },
     "metadata": {
      "needs_background": "light"
     },
     "output_type": "display_data"
    }
   ],
   "source": [
    "def plot_ic_criterion(model, name, color):\n",
    "    criterion_ = model.criterion_\n",
    "    plt.semilogx(model.alphas_ + EPSILON, criterion_, '--', color=color,\n",
    "                 linewidth=3, label='%s criterion' % name)\n",
    "    plt.axvline(model.alpha_ + EPSILON, color=color, linewidth=3,\n",
    "                label='alpha: %s estimate' % name)\n",
    "    plt.xlabel(r'$\\alpha$')\n",
    "    plt.ylabel('criterion')\n",
    "\n",
    "plt.figure()\n",
    "plot_ic_criterion(model_aic, 'AIC', 'b')\n",
    "#plot_ic_criterion(model_bic, 'BIC', 'r')\n",
    "plt.legend()"
   ]
  },
  {
   "cell_type": "code",
   "execution_count": null,
   "metadata": {},
   "outputs": [],
   "source": []
  }
 ],
 "metadata": {
  "kernelspec": {
   "display_name": "Python 3.9.2 64-bit ('braindecoding': conda)",
   "name": "python392jvsc74a57bd027dc47f4346b689bc44b28c68fd2b1d04b3ab8cfea96be877f4b3e8ad5f98aad"
  },
  "language_info": {
   "codemirror_mode": {
    "name": "ipython",
    "version": 3
   },
   "file_extension": ".py",
   "mimetype": "text/x-python",
   "name": "python",
   "nbconvert_exporter": "python",
   "pygments_lexer": "ipython3",
   "version": "3.9.2"
  },
  "orig_nbformat": 3
 },
 "nbformat": 4,
 "nbformat_minor": 5
}